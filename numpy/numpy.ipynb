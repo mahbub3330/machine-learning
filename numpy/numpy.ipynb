{
 "cells": [
  {
   "cell_type": "markdown",
   "metadata": {},
   "source": [
    "numpy's most useful feature is n diementional array object also known as \n",
    "ndarray"
   ]
  },
  {
   "cell_type": "code",
   "execution_count": 1,
   "metadata": {},
   "outputs": [],
   "source": [
    "import numpy as np"
   ]
  },
  {
   "cell_type": "code",
   "execution_count": 8,
   "metadata": {},
   "outputs": [],
   "source": [
    "a = np.array([1,2,3]) #create an array object"
   ]
  },
  {
   "cell_type": "code",
   "execution_count": 15,
   "metadata": {},
   "outputs": [
    {
     "data": {
      "text/plain": [
       "array([1, 2, 3])"
      ]
     },
     "execution_count": 15,
     "metadata": {},
     "output_type": "execute_result"
    }
   ],
   "source": [
    "a \n",
    "# a[2] #quite similar to the List"
   ]
  },
  {
   "cell_type": "markdown",
   "metadata": {},
   "source": [
    "It is similiar to list but why we use numpy array over list?\n",
    "beacuse 1. Less memory 2. Fast 3.Convenient"
   ]
  },
  {
   "cell_type": "code",
   "execution_count": 3,
   "metadata": {},
   "outputs": [
    {
     "name": "stdout",
     "output_type": "stream",
     "text": [
      "28000\n",
      "8000\n"
     ]
    }
   ],
   "source": [
    "import time , sys\n",
    "\n",
    "lists = range(1000)\n",
    "print(sys.getsizeof(5)*len(lists))\n",
    "\n",
    "array = np.arange(1000)\n",
    "print(array.size*array.itemsize)\n"
   ]
  },
  {
   "cell_type": "markdown",
   "metadata": {},
   "source": [
    "here python list takes 28000 bytes where numpy array takes only 8000 bytes.\n"
   ]
  },
  {
   "cell_type": "code",
   "execution_count": 9,
   "metadata": {},
   "outputs": [
    {
     "name": "stdout",
     "output_type": "stream",
     "text": [
      "1.9989013671875\n",
      "0.13637542724609375\n"
     ]
    }
   ],
   "source": [
    "size = 10000\n",
    "\n",
    "list1 = range(size)\n",
    "list2 = range(size)\n",
    "\n",
    "np1 = np.arange(size)\n",
    "np2 = np.arange(size)\n",
    "\n",
    "start_list = time.time()\n",
    "result_list = [(x,y) for x,y in zip(list1,list2)]\n",
    "print((time.time()-start_list)*1000)\n",
    "\n",
    "start_np = time.time()\n",
    "result_np = np1+np2\n",
    "\n",
    "print((time.time()-start_np)*1000)\n",
    "\n"
   ]
  },
  {
   "cell_type": "markdown",
   "metadata": {},
   "source": [
    "here numpy array take much less time than list of python"
   ]
  },
  {
   "cell_type": "code",
   "execution_count": 34,
   "metadata": {},
   "outputs": [
    {
     "name": "stdout",
     "output_type": "stream",
     "text": [
      "1\n",
      "2\n"
     ]
    },
    {
     "data": {
      "text/plain": [
       "8"
      ]
     },
     "execution_count": 34,
     "metadata": {},
     "output_type": "execute_result"
    }
   ],
   "source": [
    "#basic operations \n",
    "a1 = np.array([5,6,7])\n",
    "a2 = np.array([[1,2],[3,4],[5,6]])\n",
    "a3 = np.array([[1,2],[3,4],[5,6]], dtype = np.float64) #use to change datatype\n",
    "print(a1.ndim) #ndim use to show how dimensions array it is\n",
    "print(a2.ndim)\n",
    "a1.itemsize"
   ]
  },
  {
   "cell_type": "code",
   "execution_count": 35,
   "metadata": {},
   "outputs": [
    {
     "name": "stdout",
     "output_type": "stream",
     "text": [
      "int64\n",
      "float64\n",
      "8\n",
      "8\n"
     ]
    }
   ],
   "source": [
    "print(a1.dtype) #use to show datatype of array\n",
    "print(a3.dtype)\n",
    "print(a1.itemsize) #use to show size of each element\n",
    "print(a3.itemsize)"
   ]
  },
  {
   "cell_type": "code",
   "execution_count": 42,
   "metadata": {},
   "outputs": [
    {
     "name": "stdout",
     "output_type": "stream",
     "text": [
      "3\n",
      "6\n",
      "(3,)\n",
      "(3, 2)\n"
     ]
    }
   ],
   "source": [
    "print(a1.size) #shows the number of elements in the array\n",
    "print(a2.size)\n",
    "print(a1.shape) #represent the information on dimensions\n",
    "print(a2.shape) #width and height or row and column"
   ]
  },
  {
   "cell_type": "code",
   "execution_count": 59,
   "metadata": {},
   "outputs": [
    {
     "name": "stdout",
     "output_type": "stream",
     "text": [
      "[[0. 0. 0. 0.]\n",
      " [0. 0. 0. 0.]\n",
      " [0. 0. 0. 0.]]\n",
      "[[1. 1. 1. 1.]\n",
      " [1. 1. 1. 1.]\n",
      " [1. 1. 1. 1.]]\n",
      "[1 2 3 4]\n",
      "[1 3]\n",
      "[1.         1.44444444 1.88888889 2.33333333 2.77777778 3.22222222\n",
      " 3.66666667 4.11111111 4.55555556 5.        ]\n",
      "[1. 2. 3. 4. 5.]\n",
      "(3, 2)\n",
      "[[1 2 3]\n",
      " [4 5 6]]\n",
      "[[1]\n",
      " [2]\n",
      " [3]\n",
      " [4]\n",
      " [5]\n",
      " [6]]\n",
      "[1 2 3 4 5 6]\n"
     ]
    }
   ],
   "source": [
    "#initialize array with some placeholder number\n",
    "z0 = np.zeros((3,4)) # array with all 0, zeros((rows,columns)) \n",
    "print (z0)\n",
    "\n",
    "z1 = np.ones((3,4)) #array with all 1, ones(shape)\n",
    "print(z1)\n",
    "\n",
    "r1 = np.arange(1,5) # array range similiar as range in python\n",
    "print(r1)\n",
    "r2 = np.arange(1,5,2) # range(start,end+1,step)\n",
    "print(r2)\n",
    "\n",
    "l1 = np.linspace(1,5,10) # (start,end,linearly spaced number) \n",
    "print(l1)\n",
    "l2 = np.linspace(1,5,5)\n",
    "print(l2)\n",
    "\n",
    "rs1 = np.array([[1,2],[3,4],[5,6]])\n",
    "print(rs1.shape)\n",
    "rs2 = rs1.reshape(2,3) #reshape rows and columns\n",
    "print(rs2)\n",
    "rs3 = rs1.reshape(6,1)\n",
    "print(rs3)\n",
    "rs4 = rs1.ravel() #ravel() makes array in one dimension\n",
    "print(rs4)\n",
    "#all these returns you a new array so if you need to keep this array \n",
    "#you can keep it to a new variable"
   ]
  },
  {
   "cell_type": "code",
   "execution_count": 77,
   "metadata": {},
   "outputs": [
    {
     "name": "stdout",
     "output_type": "stream",
     "text": [
      "min :  5\n",
      "max :  7\n",
      "sum a1:  18\n",
      "sum a2:  21\n",
      "sum of columns:  [ 9 12]\n",
      "sum of rows:  [ 3  7 11]\n",
      "square roots :  [2.23606798 2.44948974 2.64575131]\n",
      "standard deviation:  0.816496580927726\n"
     ]
    }
   ],
   "source": [
    "#mathmetical functions\n",
    "a1 = np.array([5,6,7])\n",
    "a2 = np.array([[1,2],[3,4],[5,6]])\n",
    "print(\"min : \" ,a1.min())\n",
    "print(\"max : \",a1.max())\n",
    "print(\"sum a1: \",a1.sum())\n",
    "\n",
    "print(\"sum a2: \",a2.sum())\n",
    "print(\"sum of columns: \",a2.sum(axis = 0)) #axis 0 add colums wise\n",
    "print(\"sum of rows: \",a2.sum(axis = 1)) # axis 1 add row wise\n",
    "\n",
    "print(\"square roots : \",np.sqrt(a1))\n",
    "print(\"standard deviation: \",np.std(a1))"
   ]
  },
  {
   "cell_type": "code",
   "execution_count": 87,
   "metadata": {},
   "outputs": [
    {
     "name": "stdout",
     "output_type": "stream",
     "text": [
      "additon : \n",
      "multiplication :  [[ 5 12]\n",
      " [21 32]]\n",
      "division :  [[0.2        0.33333333]\n",
      " [0.42857143 0.5       ]]\n",
      "subtraction :  [[-4 -4]\n",
      " [-4 -4]]\n",
      "dot :  [[19 22]\n",
      " [43 50]]\n"
     ]
    }
   ],
   "source": [
    "a = np.array([[1,2],[3,4]])\n",
    "b = np.array([[5,6],[7,8]])\n",
    "c = a+b\n",
    "d = a*b\n",
    "e = a/b\n",
    "f = a-b\n",
    "g = a.dot(b)\n",
    "print(\"additon : \")\n",
    "print(\"multiplication : \",d)\n",
    "print(\"division : \",e)\n",
    "print(\"subtraction : \",f)\n",
    "print(\"dot : \",g)"
   ]
  },
  {
   "cell_type": "code",
   "execution_count": 9,
   "metadata": {},
   "outputs": [
    {
     "name": "stdout",
     "output_type": "stream",
     "text": [
      "[3 4 5 6 7 8]\n",
      "[4 6 8]\n",
      "[5 6 7 8]\n",
      "[3 4 5 6 7]\n",
      "8\n",
      "[6 7 8]\n",
      "[3 4 5 6]\n"
     ]
    }
   ],
   "source": [
    "#slicing/stacking and indexing\n",
    "#indexing...........\n",
    "i = np.array([3,4,5,6,7,8]) #for single array\n",
    "\n",
    "print(i[0:7])\n",
    "print(i[1:7:2])\n",
    "print(i[2:])\n",
    "print(i[:5])\n",
    "print(i[-1])\n",
    "print(i[-3:])\n",
    "print(i[:-2])"
   ]
  },
  {
   "cell_type": "code",
   "execution_count": 16,
   "metadata": {},
   "outputs": [
    {
     "name": "stdout",
     "output_type": "stream",
     "text": [
      "3\n",
      "[5 3]\n",
      "[6 7 8]\n",
      "[6 7]\n",
      "[[3 4 5]\n",
      " [1 2 3]\n",
      " [6 7 8]]\n"
     ]
    }
   ],
   "source": [
    "i2 = np.array([[3,4,5],[1,2,3],[6,7,8]]) #multi dimensional array\n",
    "\n",
    "print(i2[1,2]) #i2[row,column]\n",
    "print(i2[0:2,2])\n",
    "print(i2[-1]) #i2[-1] it indicates last row\n",
    "print(i2[-1,0:2])\n",
    "print(i2[:,:])"
   ]
  },
  {
   "cell_type": "code",
   "execution_count": 49,
   "metadata": {},
   "outputs": [
    {
     "name": "stdout",
     "output_type": "stream",
     "text": [
      "[3 4 5]\n",
      "[1 2 3]\n",
      "[6 7 8]\n",
      "3\n",
      "4\n",
      "5\n",
      "1\n",
      "2\n",
      "3\n",
      "6\n",
      "7\n",
      "8\n"
     ]
    },
    {
     "data": {
      "text/plain": [
       "array([[ 10,  20,  30,  40],\n",
       "       [ 50,   0,   0,  80],\n",
       "       [ 90, 100, 110, 120]])"
      ]
     },
     "execution_count": 49,
     "metadata": {},
     "output_type": "execute_result"
    }
   ],
   "source": [
    "i2 = np.array([[3,4,5],[1,2,3],[6,7,8]]) #iteration\n",
    "\n",
    "for row in i2:\n",
    "    print(row) #print all rows\n",
    "for values in i2.flat:\n",
    "    print(values) #flattening all values\n",
    "    \n",
    "#assign to slice\n",
    "sa1 = np.arange(10,121,10).reshape(3,4)\n",
    "sa1[1,1:3] = 0 #assigning 0 t0 60 and 70\n",
    "sa1"
   ]
  },
  {
   "cell_type": "code",
   "execution_count": 28,
   "metadata": {},
   "outputs": [
    {
     "name": "stdout",
     "output_type": "stream",
     "text": [
      "[[0 1]\n",
      " [2 3]\n",
      " [4 5]]\n",
      "[[ 6  7]\n",
      " [ 8  9]\n",
      " [10 11]]\n",
      "[[ 0  1]\n",
      " [ 2  3]\n",
      " [ 4  5]\n",
      " [ 6  7]\n",
      " [ 8  9]\n",
      " [10 11]]\n",
      "[[ 0  1  6  7]\n",
      " [ 2  3  8  9]\n",
      " [ 4  5 10 11]]\n"
     ]
    }
   ],
   "source": [
    "s1 = np.arange(6).reshape(3,2)\n",
    "s2 = np.arange(6,12).reshape(3,2)\n",
    "print(s1)\n",
    "print(s2)\n",
    "\n",
    "s3 = np.vstack((s1,s2)) #vertical stacking\n",
    "print(s3)\n",
    "s4 = np.hstack((s1,s2)) #horizontal stacking\n",
    "print(s4)"
   ]
  },
  {
   "cell_type": "code",
   "execution_count": 37,
   "metadata": {},
   "outputs": [
    {
     "name": "stdout",
     "output_type": "stream",
     "text": [
      "[array([[ 0,  1,  2,  3,  4],\n",
      "       [15, 16, 17, 18, 19]]), array([[ 5,  6,  7,  8,  9],\n",
      "       [20, 21, 22, 23, 24]]), array([[10, 11, 12, 13, 14],\n",
      "       [25, 26, 27, 28, 29]])]\n",
      "[[ 0  1  2  3  4]\n",
      " [15 16 17 18 19]]\n",
      "[array([[ 0,  1,  2,  3,  4,  5,  6,  7,  8,  9, 10, 11, 12, 13, 14]]), array([[15, 16, 17, 18, 19, 20, 21, 22, 23, 24, 25, 26, 27, 28, 29]])]\n",
      "[[15 16 17 18 19 20 21 22 23 24 25 26 27 28 29]]\n"
     ]
    }
   ],
   "source": [
    "sp = np.arange(30).reshape(2,15)\n",
    "\n",
    "hsp = np.hsplit(sp,3) #horizontal split\n",
    "print(hsp)\n",
    "print(hsp[0])\n",
    "\n",
    "vsp = np.vsplit(sp,2) #vertically split\n",
    "print(vsp)\n",
    "print(vsp[1])"
   ]
  },
  {
   "cell_type": "code",
   "execution_count": 42,
   "metadata": {},
   "outputs": [
    {
     "name": "stdout",
     "output_type": "stream",
     "text": [
      "[[False False False False]\n",
      " [False  True  True  True]\n",
      " [ True  True  True  True]]\n",
      "[ 5  6  7  8  9 10 11]\n"
     ]
    },
    {
     "data": {
      "text/plain": [
       "array([[ 0,  1,  2,  3],\n",
       "       [ 4, -2, -2, -2],\n",
       "       [-2, -2, -2, -2]])"
      ]
     },
     "execution_count": 42,
     "metadata": {},
     "output_type": "execute_result"
    }
   ],
   "source": [
    "#boolean array\n",
    "\n",
    "ar1 = np.arange(12).reshape(3,4)\n",
    "ar2 = ar1 > 4\n",
    "print(ar2) #shows boolean \n",
    "print(ar1[ar2]) #it returns those elements which is greater than 4\n",
    "ar1[ar2] = -2 #assign -2 in all elements which is greater than 4\n",
    "ar1"
   ]
  },
  {
   "cell_type": "code",
   "execution_count": null,
   "metadata": {},
   "outputs": [],
   "source": []
  }
 ],
 "metadata": {
  "kernelspec": {
   "display_name": "Python 3",
   "language": "python",
   "name": "python3"
  },
  "language_info": {
   "codemirror_mode": {
    "name": "ipython",
    "version": 3
   },
   "file_extension": ".py",
   "mimetype": "text/x-python",
   "name": "python",
   "nbconvert_exporter": "python",
   "pygments_lexer": "ipython3",
   "version": "3.7.3"
  }
 },
 "nbformat": 4,
 "nbformat_minor": 2
}
